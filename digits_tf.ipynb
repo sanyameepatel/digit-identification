{
  "nbformat": 4,
  "nbformat_minor": 0,
  "metadata": {
    "colab": {
      "name": "digits_tf.ipynb",
      "provenance": []
    },
    "kernelspec": {
      "name": "python3",
      "display_name": "Python 3"
    }
  },
  "cells": [
    {
      "cell_type": "code",
      "metadata": {
        "id": "u71hQJkqYuIm",
        "colab_type": "code",
        "colab": {
          "base_uri": "https://localhost:8080/",
          "height": 648
        },
        "outputId": "46e9a313-96ba-44b4-d56f-db1c6720421c"
      },
      "source": [
        "# importing libraries \n",
        "import numpy as np \n",
        "import matplotlib.pyplot as plt \n",
        "import tensorflow as tf \n",
        "\n",
        "learn = tf.contrib.learn \n",
        "tf.logging.set_verbosity(tf.logging.ERROR)\n",
        "\n",
        "# importing dataset using MNIST \n",
        "# this is how mnist is used mnist contain test and train dataset \n",
        "mnist = learn.datasets.load_dataset('mnist') \n",
        "data = mnist.train.images \n",
        "labels = np.asarray(mnist.train.labels, dtype = np.int32) \n",
        "test_data = mnist.test.images \n",
        "test_labels = np.asarray(mnist.test.labels, dtype = np.int32) \n",
        "\n",
        "max_examples = 10000\n",
        "data = data[:max_examples] \n",
        "labels = labels[:max_examples] \n",
        "\n",
        "# displaying dataset using Matplotlib \n",
        "def display(i): \n",
        "\timg = test_data[i] \n",
        "\tplt.title('label : {}'.format(test_labels[i])) \n",
        "\tplt.imshow(img.reshape((28, 28))) \n",
        "\t\n",
        "# img in tf is 28 by 28 px \n",
        "# fitting linear classifier \n",
        "feature_columns = learn.infer_real_valued_columns_from_input(data) \n",
        "classifier = learn.LinearClassifier(n_classes = 10, \n",
        "\t\t\t\t\t\t\t\t\tfeature_columns = feature_columns) \n",
        "classifier.fit(data, labels, batch_size = 100, steps = 1000) \n",
        "\n",
        "# Evaluate accuracy \n",
        "classifier.evaluate(test_data, test_labels) \n",
        "print(classifier.evaluate(test_data, test_labels)[\"accuracy\"]) \n",
        "\n",
        "prediction = classifier.predict(np.array([test_data[0]], \n",
        "\t\t\t\t\t\t\t\t\t\tdtype=float), \n",
        "\t\t\t\t\t\t\t\t\t\tas_iterable=False) \n",
        "print(\"prediction : {}, label : {}\".format(prediction, \n",
        "\ttest_labels[0]) ) \n",
        "\n",
        "if prediction == test_labels[0]: \n",
        "\tdisplay(0) "
      ],
      "execution_count": 2,
      "outputs": [
        {
          "output_type": "display_data",
          "data": {
            "text/html": [
              "<p style=\"color: red;\">\n",
              "The default version of TensorFlow in Colab will soon switch to TensorFlow 2.x.<br>\n",
              "We recommend you <a href=\"https://www.tensorflow.org/guide/migrate\" target=\"_blank\">upgrade</a> now \n",
              "or ensure your notebook will continue to use TensorFlow 1.x via the <code>%tensorflow_version 1.x</code> magic:\n",
              "<a href=\"https://colab.research.google.com/notebooks/tensorflow_version.ipynb\" target=\"_blank\">more info</a>.</p>\n"
            ],
            "text/plain": [
              "<IPython.core.display.HTML object>"
            ]
          },
          "metadata": {
            "tags": []
          }
        },
        {
          "output_type": "stream",
          "text": [
            "WARNING:tensorflow:\n",
            "The TensorFlow contrib module will not be included in TensorFlow 2.0.\n",
            "For more information, please see:\n",
            "  * https://github.com/tensorflow/community/blob/master/rfcs/20180907-contrib-sunset.md\n",
            "  * https://github.com/tensorflow/addons\n",
            "  * https://github.com/tensorflow/io (for I/O related ops)\n",
            "If you depend on functionality not listed there, please file an issue.\n",
            "\n",
            "Successfully downloaded train-images-idx3-ubyte.gz 9912422 bytes.\n",
            "Extracting MNIST-data/train-images-idx3-ubyte.gz\n",
            "Successfully downloaded train-labels-idx1-ubyte.gz 28881 bytes.\n",
            "Extracting MNIST-data/train-labels-idx1-ubyte.gz\n",
            "Successfully downloaded t10k-images-idx3-ubyte.gz 1648877 bytes.\n",
            "Extracting MNIST-data/t10k-images-idx3-ubyte.gz\n",
            "Successfully downloaded t10k-labels-idx1-ubyte.gz 4542 bytes.\n",
            "Extracting MNIST-data/t10k-labels-idx1-ubyte.gz\n",
            "0.9137\n",
            "prediction : [7], label : 7\n"
          ],
          "name": "stdout"
        },
        {
          "output_type": "display_data",
          "data": {
            "image/png": "[encoded data removed]",
            "text/plain": [
              "<Figure size 432x288 with 1 Axes>"
            ]
          },
          "metadata": {
            "tags": []
          }
        }
      ]
    }
  ]
}